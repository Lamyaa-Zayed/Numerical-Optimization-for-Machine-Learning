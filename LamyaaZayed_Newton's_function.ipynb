{
  "nbformat": 4,
  "nbformat_minor": 0,
  "metadata": {
    "colab": {
      "name": "LamyaaZayed_Newton's function.ipynb",
      "provenance": [],
      "collapsed_sections": []
    },
    "kernelspec": {
      "name": "python3",
      "display_name": "Python 3"
    },
    "language_info": {
      "name": "python"
    }
  },
  "cells": [
    {
      "cell_type": "markdown",
      "metadata": {
        "id": "DceaytWzIFi2"
      },
      "source": [
        "Use python code to build a function that calculate the approximate solution \n",
        "of a function using Newton’s method.\n",
        "a.  Think about function arguments.\n",
        "b.  Choose the suitable stop criteria. \n",
        "c.  Use your function to solve the above equations."
      ]
    },
    {
      "cell_type": "code",
      "metadata": {
        "id": "l7us7Gy9IvMn"
      },
      "source": [
        "import numpy as np\n"
      ],
      "execution_count": 2,
      "outputs": []
    },
    {
      "cell_type": "code",
      "metadata": {
        "colab": {
          "base_uri": "https://localhost:8080/"
        },
        "id": "pSlYw00LH5XX",
        "outputId": "87422e6b-816d-4eb0-ce20-5c6fae45d67e"
      },
      "source": [
        "def newtonFunction (functionEquation , initialValue):\n",
        "  print(\"Finding the solution for F(X) =\\n\",functionEquation,\"\\n\")\n",
        "  derivatedFunction = np.polyder(functionEquation)\n",
        "  i=0\n",
        "  x=[initialValue]\n",
        "  while ((functionEquation(x[i]) != 0) and ( (i<2) or (float(\"{:.6f}\".format(x[i])) != float(\"{:.6f}\".format(x[i-1]))))):\n",
        "    print('X[',i,'] = ',x[i],' F(x)= ',functionEquation(x[i]),' F\\'(x)=',derivatedFunction(x[i]),'\\n')\n",
        "    temp = x[i]-(functionEquation(x[i]) / derivatedFunction(x[i]))\n",
        "    x.append(temp)\n",
        "    i+=1\n",
        "  print(\"The solution is at X\" , i , \" and its value is \" , x[i])\n",
        "  print(\"=======================================================================\")\n",
        "\n",
        "functionEquation=np.poly1d([1,-1,-1])  #x2-x-1 ,x0=1\n",
        "x0=1\n",
        "newtonFunction(functionEquation,x0)\n",
        "\n",
        "newtonFunction(np.poly1d([1,-7,8,-3]),5)  #x3-7x2+8x-3  ,x0=5"
      ],
      "execution_count": 31,
      "outputs": [
        {
          "output_type": "stream",
          "text": [
            "Finding the solution for F(X) =\n",
            "    2\n",
            "1 x - 1 x - 1 \n",
            "\n",
            "X[ 0 ] =  1  F(x)=  -1  F'(x)= 1 \n",
            "\n",
            "X[ 1 ] =  2.0  F(x)=  1.0  F'(x)= 3.0 \n",
            "\n",
            "X[ 2 ] =  1.6666666666666667  F(x)=  0.11111111111111138  F'(x)= 2.3333333333333335 \n",
            "\n",
            "X[ 3 ] =  1.619047619047619  F(x)=  0.0022675736961452753  F'(x)= 2.238095238095238 \n",
            "\n",
            "X[ 4 ] =  1.6180344478216817  F(x)=  1.0265159327005335e-06  F'(x)= 2.2360688956433634 \n",
            "\n",
            "The solution is at X 5  and its value is  1.618033988749989\n",
            "=======================================================================\n",
            "Finding the solution for F(X) =\n",
            "    3     2\n",
            "1 x - 7 x + 8 x - 3 \n",
            "\n",
            "X[ 0 ] =  5  F(x)=  -13  F'(x)= 13 \n",
            "\n",
            "X[ 1 ] =  6.0  F(x)=  9.0  F'(x)= 32.0 \n",
            "\n",
            "X[ 2 ] =  5.71875  F(x)=  0.847869873046875  F'(x)= 26.0498046875 \n",
            "\n",
            "X[ 3 ] =  5.686201968134958  F(x)=  0.010724790478456203  F'(x)= 25.391850913376178 \n",
            "\n",
            "X[ 4 ] =  5.68577959677987  F(x)=  1.7943554118104998e-06  F'(x)= 25.383354514556604 \n",
            "\n",
            "The solution is at X 5  and its value is  5.685779526089631\n",
            "=======================================================================\n"
          ],
          "name": "stdout"
        }
      ]
    }
  ]
}